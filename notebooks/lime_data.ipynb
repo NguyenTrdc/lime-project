{
 "cells": [
  {
   "cell_type": "markdown",
   "id": "ef1bfa38-f3a8-4cc2-889d-8793c163786d",
   "metadata": {},
   "source": [
    "# API Lime API"
   ]
  },
  {
   "cell_type": "code",
   "execution_count": 12,
   "id": "e107c114-2472-45f5-ac3e-a3d6a9de4bf2",
   "metadata": {},
   "outputs": [],
   "source": [
    "import requests\n",
    "import numpy as np\n",
    "import pandas as pd\n",
    "\n",
    "from datetime import datetime\n",
    "import pytz"
   ]
  },
  {
   "cell_type": "markdown",
   "id": "3abd7260-03e6-462d-acef-3a5e00bb7204",
   "metadata": {},
   "source": [
    "## Date and time processing"
   ]
  },
  {
   "cell_type": "code",
   "execution_count": 23,
   "id": "20aeea6a-bb06-4615-a379-cef591609711",
   "metadata": {},
   "outputs": [],
   "source": [
    "def get_current_date_time():\n",
    "    # Get the current time in the UTC timezone\n",
    "    utc_now = datetime.now(pytz.utc)\n",
    "\n",
    "    # Convert the UTC time to the Paris timezone\n",
    "    paris_tz = pytz.timezone('Europe/Paris')\n",
    "    paris_now = utc_now.astimezone(paris_tz)\n",
    "\n",
    "    return paris_now"
   ]
  },
  {
   "cell_type": "markdown",
   "id": "bd56b947-c8ef-4e01-8ece-90d95351d015",
   "metadata": {},
   "source": [
    "## Get dataframe from lime's API"
   ]
  },
  {
   "cell_type": "code",
   "execution_count": 36,
   "id": "6217d7e9-f514-41be-8042-1fe9f8e906a3",
   "metadata": {},
   "outputs": [
    {
     "data": {
      "text/html": [
       "<div>\n",
       "<style scoped>\n",
       "    .dataframe tbody tr th:only-of-type {\n",
       "        vertical-align: middle;\n",
       "    }\n",
       "\n",
       "    .dataframe tbody tr th {\n",
       "        vertical-align: top;\n",
       "    }\n",
       "\n",
       "    .dataframe thead th {\n",
       "        text-align: right;\n",
       "    }\n",
       "</style>\n",
       "<table border=\"1\" class=\"dataframe\">\n",
       "  <thead>\n",
       "    <tr style=\"text-align: right;\">\n",
       "      <th></th>\n",
       "      <th>stationCode</th>\n",
       "      <th>station_id</th>\n",
       "      <th>num_bikes_available</th>\n",
       "      <th>numBikesAvailable</th>\n",
       "      <th>num_bikes_available_types</th>\n",
       "      <th>num_docks_available</th>\n",
       "      <th>numDocksAvailable</th>\n",
       "      <th>is_installed</th>\n",
       "      <th>is_returning</th>\n",
       "      <th>is_renting</th>\n",
       "      <th>last_reported</th>\n",
       "      <th>year</th>\n",
       "      <th>month</th>\n",
       "      <th>day</th>\n",
       "      <th>hour</th>\n",
       "      <th>minute</th>\n",
       "    </tr>\n",
       "  </thead>\n",
       "  <tbody>\n",
       "    <tr>\n",
       "      <th>0</th>\n",
       "      <td>16107</td>\n",
       "      <td>213688169</td>\n",
       "      <td>6</td>\n",
       "      <td>6</td>\n",
       "      <td>[{'mechanical': 3}, {'ebike': 3}]</td>\n",
       "      <td>29</td>\n",
       "      <td>29</td>\n",
       "      <td>1</td>\n",
       "      <td>1</td>\n",
       "      <td>1</td>\n",
       "      <td>1690463591</td>\n",
       "      <td>2023</td>\n",
       "      <td>7</td>\n",
       "      <td>27</td>\n",
       "      <td>15</td>\n",
       "      <td>27</td>\n",
       "    </tr>\n",
       "    <tr>\n",
       "      <th>1</th>\n",
       "      <td>31104</td>\n",
       "      <td>653222953</td>\n",
       "      <td>23</td>\n",
       "      <td>23</td>\n",
       "      <td>[{'mechanical': 12}, {'ebike': 11}]</td>\n",
       "      <td>6</td>\n",
       "      <td>6</td>\n",
       "      <td>1</td>\n",
       "      <td>1</td>\n",
       "      <td>1</td>\n",
       "      <td>1690463574</td>\n",
       "      <td>2023</td>\n",
       "      <td>7</td>\n",
       "      <td>27</td>\n",
       "      <td>15</td>\n",
       "      <td>27</td>\n",
       "    </tr>\n",
       "    <tr>\n",
       "      <th>2</th>\n",
       "      <td>9020</td>\n",
       "      <td>36255</td>\n",
       "      <td>8</td>\n",
       "      <td>8</td>\n",
       "      <td>[{'mechanical': 1}, {'ebike': 7}]</td>\n",
       "      <td>13</td>\n",
       "      <td>13</td>\n",
       "      <td>1</td>\n",
       "      <td>1</td>\n",
       "      <td>1</td>\n",
       "      <td>1690463552</td>\n",
       "      <td>2023</td>\n",
       "      <td>7</td>\n",
       "      <td>27</td>\n",
       "      <td>15</td>\n",
       "      <td>27</td>\n",
       "    </tr>\n",
       "    <tr>\n",
       "      <th>3</th>\n",
       "      <td>12109</td>\n",
       "      <td>37815204</td>\n",
       "      <td>4</td>\n",
       "      <td>4</td>\n",
       "      <td>[{'mechanical': 2}, {'ebike': 2}]</td>\n",
       "      <td>21</td>\n",
       "      <td>21</td>\n",
       "      <td>1</td>\n",
       "      <td>1</td>\n",
       "      <td>1</td>\n",
       "      <td>1690463668</td>\n",
       "      <td>2023</td>\n",
       "      <td>7</td>\n",
       "      <td>27</td>\n",
       "      <td>15</td>\n",
       "      <td>27</td>\n",
       "    </tr>\n",
       "    <tr>\n",
       "      <th>4</th>\n",
       "      <td>14111</td>\n",
       "      <td>251039991</td>\n",
       "      <td>10</td>\n",
       "      <td>10</td>\n",
       "      <td>[{'mechanical': 6}, {'ebike': 4}]</td>\n",
       "      <td>15</td>\n",
       "      <td>15</td>\n",
       "      <td>1</td>\n",
       "      <td>1</td>\n",
       "      <td>1</td>\n",
       "      <td>1690463626</td>\n",
       "      <td>2023</td>\n",
       "      <td>7</td>\n",
       "      <td>27</td>\n",
       "      <td>15</td>\n",
       "      <td>27</td>\n",
       "    </tr>\n",
       "  </tbody>\n",
       "</table>\n",
       "</div>"
      ],
      "text/plain": [
       "  stationCode  station_id  num_bikes_available  numBikesAvailable  \\\n",
       "0       16107   213688169                    6                  6   \n",
       "1       31104   653222953                   23                 23   \n",
       "2        9020       36255                    8                  8   \n",
       "3       12109    37815204                    4                  4   \n",
       "4       14111   251039991                   10                 10   \n",
       "\n",
       "             num_bikes_available_types  num_docks_available  \\\n",
       "0    [{'mechanical': 3}, {'ebike': 3}]                   29   \n",
       "1  [{'mechanical': 12}, {'ebike': 11}]                    6   \n",
       "2    [{'mechanical': 1}, {'ebike': 7}]                   13   \n",
       "3    [{'mechanical': 2}, {'ebike': 2}]                   21   \n",
       "4    [{'mechanical': 6}, {'ebike': 4}]                   15   \n",
       "\n",
       "   numDocksAvailable  is_installed  is_returning  is_renting  last_reported  \\\n",
       "0                 29             1             1           1     1690463591   \n",
       "1                  6             1             1           1     1690463574   \n",
       "2                 13             1             1           1     1690463552   \n",
       "3                 21             1             1           1     1690463668   \n",
       "4                 15             1             1           1     1690463626   \n",
       "\n",
       "   year  month  day  hour  minute  \n",
       "0  2023      7   27    15      27  \n",
       "1  2023      7   27    15      27  \n",
       "2  2023      7   27    15      27  \n",
       "3  2023      7   27    15      27  \n",
       "4  2023      7   27    15      27  "
      ]
     },
     "execution_count": 36,
     "metadata": {},
     "output_type": "execute_result"
    }
   ],
   "source": [
    "url = \"https://velib-metropole-opendata.smoove.pro/opendata/Velib_Metropole/station_status.json\"\n",
    "\n",
    "try:\n",
    "    response = requests.get(url)\n",
    "    response.raise_for_status()  # Check for any errors in the response\n",
    "\n",
    "    # If the request was successful, parse the JSON data\n",
    "    data = response.json()\n",
    "\n",
    "    # Extract the 'stations' list from the JSON data\n",
    "    stations_data = data[\"data\"][\"stations\"]\n",
    "\n",
    "    # Create a DataFrame from the 'stations' list\n",
    "    df = pd.DataFrame(stations_data)\n",
    "\n",
    "    # Get the current date and time\n",
    "    current_date_time = get_current_date_time()\n",
    "\n",
    "    #Convert into year, month, day, hour and minute \n",
    "    df[\"year\"] = current_date_time.year\n",
    "    df[\"month\"] = current_date_time.month\n",
    "    df[\"day\"] = current_date_time.day\n",
    "    df[\"hour\"] = current_date_time.hour\n",
    "    df[\"minute\"] = current_date_time.minute\n",
    "    \n",
    "except requests.exceptions.RequestException as e:\n",
    "    print(\"Error fetching data:\", e)\n",
    "\n",
    "df.head()"
   ]
  },
  {
   "cell_type": "code",
   "execution_count": 27,
   "id": "54d8a37e-a32f-45f1-ac30-e2ebe00dcd01",
   "metadata": {},
   "outputs": [
    {
     "data": {
      "text/plain": [
       "(1454, 16)"
      ]
     },
     "execution_count": 27,
     "metadata": {},
     "output_type": "execute_result"
    }
   ],
   "source": [
    "df.shape"
   ]
  },
  {
   "cell_type": "markdown",
   "id": "76dcdc3c-5423-413f-b818-c4cfcb33ec46",
   "metadata": {},
   "source": [
    "## Data cleaning"
   ]
  },
  {
   "cell_type": "markdown",
   "id": "87a01bd2-16b2-4a64-999b-4cfdd95e85c3",
   "metadata": {},
   "source": [
    "Dropping every station that is not installed."
   ]
  },
  {
   "cell_type": "code",
   "execution_count": 37,
   "id": "d07ba644-f19e-48a0-998f-6483f033aed2",
   "metadata": {},
   "outputs": [
    {
     "data": {
      "text/plain": [
       "(1454, 16)"
      ]
     },
     "execution_count": 37,
     "metadata": {},
     "output_type": "execute_result"
    }
   ],
   "source": [
    "df = df[df['is_installed'] != 0]\n",
    "df.shape"
   ]
  },
  {
   "cell_type": "markdown",
   "id": "8d102389-fa1f-4bc0-b8a7-8c468fa9b51a",
   "metadata": {},
   "source": [
    "Get the interesting columns."
   ]
  },
  {
   "cell_type": "code",
   "execution_count": 39,
   "id": "285f5ab9-5603-4c0a-a37a-5b21bf4a0cd8",
   "metadata": {},
   "outputs": [
    {
     "data": {
      "text/html": [
       "<div>\n",
       "<style scoped>\n",
       "    .dataframe tbody tr th:only-of-type {\n",
       "        vertical-align: middle;\n",
       "    }\n",
       "\n",
       "    .dataframe tbody tr th {\n",
       "        vertical-align: top;\n",
       "    }\n",
       "\n",
       "    .dataframe thead th {\n",
       "        text-align: right;\n",
       "    }\n",
       "</style>\n",
       "<table border=\"1\" class=\"dataframe\">\n",
       "  <thead>\n",
       "    <tr style=\"text-align: right;\">\n",
       "      <th></th>\n",
       "      <th>stationCode</th>\n",
       "      <th>num_bikes_available</th>\n",
       "      <th>numDocksAvailable</th>\n",
       "      <th>year</th>\n",
       "      <th>month</th>\n",
       "      <th>day</th>\n",
       "      <th>hour</th>\n",
       "      <th>minute</th>\n",
       "    </tr>\n",
       "  </thead>\n",
       "  <tbody>\n",
       "    <tr>\n",
       "      <th>0</th>\n",
       "      <td>16107</td>\n",
       "      <td>6</td>\n",
       "      <td>29</td>\n",
       "      <td>2023</td>\n",
       "      <td>7</td>\n",
       "      <td>27</td>\n",
       "      <td>15</td>\n",
       "      <td>27</td>\n",
       "    </tr>\n",
       "    <tr>\n",
       "      <th>1</th>\n",
       "      <td>31104</td>\n",
       "      <td>23</td>\n",
       "      <td>6</td>\n",
       "      <td>2023</td>\n",
       "      <td>7</td>\n",
       "      <td>27</td>\n",
       "      <td>15</td>\n",
       "      <td>27</td>\n",
       "    </tr>\n",
       "    <tr>\n",
       "      <th>2</th>\n",
       "      <td>9020</td>\n",
       "      <td>8</td>\n",
       "      <td>13</td>\n",
       "      <td>2023</td>\n",
       "      <td>7</td>\n",
       "      <td>27</td>\n",
       "      <td>15</td>\n",
       "      <td>27</td>\n",
       "    </tr>\n",
       "    <tr>\n",
       "      <th>3</th>\n",
       "      <td>12109</td>\n",
       "      <td>4</td>\n",
       "      <td>21</td>\n",
       "      <td>2023</td>\n",
       "      <td>7</td>\n",
       "      <td>27</td>\n",
       "      <td>15</td>\n",
       "      <td>27</td>\n",
       "    </tr>\n",
       "    <tr>\n",
       "      <th>4</th>\n",
       "      <td>14111</td>\n",
       "      <td>10</td>\n",
       "      <td>15</td>\n",
       "      <td>2023</td>\n",
       "      <td>7</td>\n",
       "      <td>27</td>\n",
       "      <td>15</td>\n",
       "      <td>27</td>\n",
       "    </tr>\n",
       "  </tbody>\n",
       "</table>\n",
       "</div>"
      ],
      "text/plain": [
       "  stationCode  num_bikes_available  numDocksAvailable  year  month  day  hour  \\\n",
       "0       16107                    6                 29  2023      7   27    15   \n",
       "1       31104                   23                  6  2023      7   27    15   \n",
       "2        9020                    8                 13  2023      7   27    15   \n",
       "3       12109                    4                 21  2023      7   27    15   \n",
       "4       14111                   10                 15  2023      7   27    15   \n",
       "\n",
       "   minute  \n",
       "0      27  \n",
       "1      27  \n",
       "2      27  \n",
       "3      27  \n",
       "4      27  "
      ]
     },
     "execution_count": 39,
     "metadata": {},
     "output_type": "execute_result"
    }
   ],
   "source": [
    "df = df[[\"stationCode\",\"num_bikes_available\",\"numDocksAvailable\",\"year\",\"month\",\"day\",\"hour\",\"minute\"]]\n",
    "df.head()"
   ]
  }
 ],
 "metadata": {
  "kernelspec": {
   "display_name": "Python 3 (ipykernel)",
   "language": "python",
   "name": "python3"
  },
  "language_info": {
   "codemirror_mode": {
    "name": "ipython",
    "version": 3
   },
   "file_extension": ".py",
   "mimetype": "text/x-python",
   "name": "python",
   "nbconvert_exporter": "python",
   "pygments_lexer": "ipython3",
   "version": "3.10.6"
  }
 },
 "nbformat": 4,
 "nbformat_minor": 5
}
